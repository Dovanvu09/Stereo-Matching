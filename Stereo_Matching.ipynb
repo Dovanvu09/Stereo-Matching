{
 "cells": [
  {
   "cell_type": "code",
   "execution_count": 1,
   "metadata": {},
   "outputs": [],
   "source": [
    "import cv2\n",
    "import numpy as np\n",
    "\n",
    "left_image = cv2.imread('D:/test/ML/Stereo_Matching/left.png',0).astype(np.float32)\n",
    "right_image = cv2.imread('D:/test/ML/Stereo_Matching/right.png',0).astype(np.float32)\n",
    "\n",
    "height, width = left_image.shape"
   ]
  },
  {
   "cell_type": "code",
   "execution_count": 2,
   "metadata": {},
   "outputs": [
    {
     "data": {
      "text/plain": [
       "True"
      ]
     },
     "execution_count": 2,
     "metadata": {},
     "output_type": "execute_result"
    }
   ],
   "source": [
    "D = 16\n",
    "# for each pixel in left image\n",
    "disparity_map = np.zeros((height, width), dtype = np.uint8)\n",
    "for i in range(height):\n",
    "    for  j in range(width):\n",
    "        min_cost = 256\n",
    "        disparity = 0\n",
    "        # get D pixel from right image\n",
    "        for d in range(1, D):\n",
    "            cost = 255 if (j-d) < 0 else abs(left_image[i,j] - right_image[i, j-d])\n",
    "            if cost < min_cost:\n",
    "                min_cost = cost\n",
    "                disparity = d\n",
    "        disparity_map[i,j] = disparity*15\n",
    "cv2.imwrite('D:/test/ML/Stereo_Matching/disparity_map3.png', disparity_map)\n"
   ]
  },
  {
   "cell_type": "markdown",
   "metadata": {},
   "source": [
    "Using Disparity Space"
   ]
  },
  {
   "cell_type": "code",
   "execution_count": 3,
   "metadata": {},
   "outputs": [
    {
     "name": "stdout",
     "output_type": "stream",
     "text": [
      "288 384\n"
     ]
    }
   ],
   "source": [
    "import cv2\n",
    "import numpy as np\n",
    "\n",
    "\n",
    "\n",
    "def Disparity_Space(disparity_range):\n",
    "     left_image = cv2.imread('D:/test/ML/Stereo_Matching/left.png',0).astype(np.float32)\n",
    "     right_image = cv2.imread('D:/test/ML/Stereo_Matching/right.png',0).astype(np.float32)\n",
    "     height, width = left_image.shape\n",
    "     print(height, width) \n",
    "     Disparity_map = np.zeros((height, width, disparity_range), dtype = np.float32)\n",
    "     for i in range(height):\n",
    "          for j in range(width):\n",
    "               for d in range(disparity_range):\n",
    "                    Disparity_map[i,j,d] = 255 if (j-d) < 0 else abs(left_image[i,j] - right_image[i, j-d])\n",
    "     depth_map = np.zeros((height,width), dtype = np.uint8)\n",
    "     for i in range(height):\n",
    "          for j in range(width):\n",
    "               disparity = 0\n",
    "               cost_min = 255\n",
    "               for d in range(disparity_range):\n",
    "                    if Disparity_map[i,j,d] < cost_min:\n",
    "                         cost_min = Disparity_map[i,j,d]\n",
    "                         disparity = d\n",
    "               depth_map[i,j] = disparity * (255/disparity_range)\n",
    "        \n",
    "     cv2.imwrite('D:/test/ML/Stereo_Matching/disparity_map2.png', depth_map)\n",
    "\n",
    "Disparity_Space(16)\n",
    "\n"
   ]
  },
  {
   "cell_type": "markdown",
   "metadata": {},
   "source": [
    "Using Vectorization (AD)\n",
    "\n",
    "\n"
   ]
  },
  {
   "cell_type": "code",
   "execution_count": 4,
   "metadata": {},
   "outputs": [],
   "source": [
    "def compute_cost(disparity_range):\n",
    "    left_image = cv2.imread('D:/test/ML/Stereo_Matching/left.png',0).astype(np.float32)\n",
    "    right_image = cv2.imread('D:/test/ML/Stereo_Matching/right.png',0).astype(np.float32)\n",
    "    height, width = left_image.shape\n",
    "    cost_space = np.zeros((height, width, disparity_range), dtype = np.float32)\n",
    "    for i in range(disparity_range):\n",
    "        left = left_image[:, d: width]\n",
    "        right = right_image[:,0: width-d]\n",
    "        cost_d = abs(left - right)\n",
    "        cost_space[:, d:width, d] = cost_d\n",
    "    scale = 255/ disparity_range\n",
    "    depth = np.argmin(cost_space, axis = 2)\n",
    "    depth = depth * scale\n",
    "    depth = depth.astype(np.unit8)\n",
    "    cv2.imwirte('D:/test/ML/Stereo_Matching/disparity_map3.png', depth)"
   ]
  },
  {
   "cell_type": "markdown",
   "metadata": {},
   "source": [
    "Computer SAD"
   ]
  },
  {
   "cell_type": "code",
   "execution_count": 15,
   "metadata": {},
   "outputs": [],
   "source": [
    "import cv2\n",
    "import numpy as np\n",
    "def computer_intergral(data):\n",
    "    sum_axis0 = np.cumsum(data, axis = 0)\n",
    "    sum_axis1 = np.cumsum(sum_axis0, axis = 1)\n",
    "    return sum_axis1\n",
    "\n",
    "def computer_cost(left_image, right_image,disparity_range):\n",
    "\n",
    "    left = cv2.imread(left_image,0).astype(np.float32)\n",
    "    right = cv2.imread(right_image,0).astype(np.float32)\n",
    "    \n",
    "    height, width = left.shape\n",
    "\n",
    "    cost_space = np.full((height, width, disparity_range), 255, np.float32)\n",
    "    for j in range(disparity_range):                \n",
    "        left_d  = left[:,j:width]\n",
    "        right_d = right[:, 0:width-j]\n",
    "        cost_d  = np.abs(left_d-right_d)\n",
    "        cost_space[:, j:width, j] = cost_d\n",
    "    \n",
    "\n",
    "    intergral = np.full((height, width, disparity_range), 255, np.float32)\n",
    "    for j in range(disparity_range):\n",
    "        intergral[:,:,j] = computer_intergral(cost_space[:,:, j])\n",
    "    \n",
    "    side = 2\n",
    "    cost_SAD_space = np.full((height, width,disparity_range), 255, np.float32)\n",
    "    for i in range(side+1, height-side):\n",
    "        for j in range(side+1, width-side):\n",
    "            for d in range(disparity_range):\n",
    "                cost_SAD_space[i+side, j+side, d] = intergral[i+side, j+side,d] - intergral[i+side, j-side-1, d] - intergral[i-side-1, j+side, d] + intergral[i-side-1,j-side-1,d]\n",
    "    scale = 255/ disparity_range\n",
    "    depth_map = np.argmin(cost_SAD_space, axis = 2)\n",
    "    depth_map = depth_map * scale\n",
    "    depth_map = depth_map.astype(np.uint8)\n",
    "    cv2.imwrite('D:/test/ML/Stereo_Matching/disparity_map4.png', depth_map)\n",
    "computer_cost('D:/test/ML/Stereo_Matching/left.png', 'D:/test/ML/Stereo_Matching/right.png', 16)\n"
   ]
  },
  {
   "cell_type": "markdown",
   "metadata": {},
   "source": [
    "Computer SAD using Vectorization"
   ]
  },
  {
   "cell_type": "code",
   "execution_count": 1,
   "metadata": {},
   "outputs": [],
   "source": [
    "import numpy as np\n",
    "import cv2\n",
    "def computer_intergral(data):\n",
    "    sum_0 = np.cumsum(data, axis = 0)\n",
    "    sum_1 = np.cumsum(sum_0, axis=1)\n",
    "    return sum_1\n",
    "def computer_cost(left_image, right_image, disparity_range):\n",
    "    left = cv2.imread(left_image,0).astype(np.float32)\n",
    "    right = cv2.imread(right_image,0).astype(np.float32)\n",
    "    \n",
    "    height, width = left.shape\n",
    "\n",
    "    cost_space = np.full((height, width, disparity_range), 255, np.float32)\n",
    "    for j in range(disparity_range):                \n",
    "        left_d  = left[:,j:width]\n",
    "        right_d = right[:, 0:width-j]\n",
    "        cost_d  = np.abs(left_d-right_d)\n",
    "        cost_space[:, j:width, j] = cost_d\n",
    "\n",
    "    intergral = np.zeros((height, width,  disparity_range), dtype = np.float32)\n",
    "    for i in range(disparity_range):\n",
    "        intergral[:, :, i] = computer_intergral(cost_space[:,:, i])\n",
    "    cost_SAD_space = np.zeros((height, width, disparity_range), dtype = np.float32)\n",
    "    side = 2\n",
    "    cost_SAD_space[:height-side, :width-side,:] = intergral[side: , side:, :]\n",
    "    cost_SAD_space[side+1: , side+1:, :] = cost_SAD_space[side+1:, side+1:, :] + intergral[:height-side-1, :width-side-1,:]\n",
    "    cost_SAD_space[side+1:, :width-side, :] = cost_SAD_space[side+1:, :width-side, :] - intergral[:height-side-1, side:, :]\n",
    "    cost_SAD_space[:height-side, side+1:, :] = cost_SAD_space[:height-side, side+1:, :] - intergral[side:, :width-side-1, :]\n",
    "    scale = 255 / disparity_range    \n",
    "    depth = np.argmin(cost_SAD_space, axis=2)\n",
    "    depth = depth*scale\n",
    "    depth = depth.astype(np.uint8)\n",
    "    cv2.imwrite('D:/test/ML/Stereo_Matching/disparity_map5.png', depth)\n",
    "computer_cost('D:/test/ML/Stereo_Matching/left.png', 'D:/test/ML/Stereo_Matching/right.png', 16)"
   ]
  },
  {
   "cell_type": "markdown",
   "metadata": {},
   "source": [
    "Compute SAD ( using cosine similarity)"
   ]
  },
  {
   "cell_type": "code",
   "execution_count": null,
   "metadata": {},
   "outputs": [],
   "source": [
    "import cv2\n",
    "import numpy as np\n",
    "\n",
    "# cho trước chiều rộng và chiều cao của ảnh\n",
    "height = 288\n",
    "width  = 384\n",
    "\n",
    "def compute_integral_image(data):\n",
    "    sum_axis_0 = np.cumsum(data, axis=0)\n",
    "    sum_axis_1 = np.cumsum(sum_axis_0, axis=1)\n",
    "    return sum_axis_1\n",
    "\n",
    "def stereo_matching(left_img, right_img, disparity_range):   \n",
    "    # đọc ảnh trái và ảnh phải, rồi chuyển sang ảnh grayscale\n",
    "    left  = cv2.imread(left_img, 0)    \n",
    "    right = cv2.imread(right_img, 0)  \n",
    "    \n",
    "    left  = left.astype(np.float32)\n",
    "    right = right.astype(np.float32)\n",
    "    \n",
    "    # compute integral image space\n",
    "    integral_xy = np.full((height, width, disparity_range), 255*255, np.float32)\n",
    "    integral_xx = np.full((height, width), 255*255, np.float32)\n",
    "    integral_yy = np.full((height, width), 255*255, np.float32)    \n",
    "   \n",
    "    integral_xx = compute_integral_image(left*left)\n",
    "    integral_yy = compute_integral_image(right*right)\n",
    "    for j in range(disparity_range):        \n",
    "        integral_xy[:, j:width, j] = left[:,j:width]*right[:, :width-j]\n",
    "        integral_xy[:,:,j] = compute_integral_image(integral_xy[:,:,j])\n",
    "        \n",
    "    # compute sum\n",
    "    side = 2\n",
    "    integral_xy_sum = np.full((height, width, disparity_range), 255*255, np.float32)    \n",
    "    integral_xy_sum[:height-side, :width-side, :] = integral_xy[side:, side:, :]\n",
    "    integral_xy_sum[side+1:, side+1:, :] = integral_xy_sum[side+1:, side+1:, :] + integral_xy[:height-side-1, :width-side-1, :]\n",
    "    integral_xy_sum[side+1:, :width-side, :] = integral_xy_sum[side+1:, :width-side, :] - integral_xy[:height-side-1, side:, :]\n",
    "    integral_xy_sum[:height-side, side+1:, :] = integral_xy_sum[:height-side, side+1:, :] - integral_xy[side:, :width-side-1, :]\n",
    "    \n",
    "    integral_xx_sum = np.full((height, width), 255*255, np.float32)    \n",
    "    integral_xx_sum[:height-side, :width-side] = integral_xx[side:, side:]\n",
    "    integral_xx_sum[side+1:, side+1:] = integral_xx_sum[side+1:, side+1:] + integral_xx[:height-side-1, :width-side-1]\n",
    "    integral_xx_sum[side+1:, :width-side] = integral_xx_sum[side+1:, :width-side] - integral_xx[:height-side-1, side:]\n",
    "    integral_xx_sum[:height-side, side+1:] = integral_xx_sum[:height-side, side+1:] - integral_xx[side:, :width-side-1]\n",
    "    \n",
    "    integral_yy_sum = np.full((height, width), 255*255, np.float32)    \n",
    "    integral_yy_sum[:height-side, :width-side] = integral_yy[side:, side:]\n",
    "    integral_yy_sum[side+1:, side+1:] = integral_yy_sum[side+1:, side+1:] + integral_yy[:height-side-1, :width-side-1]\n",
    "    integral_yy_sum[side+1:, :width-side] = integral_yy_sum[side+1:, :width-side] - integral_yy[:height-side-1, side:]\n",
    "    integral_yy_sum[:height-side, side+1:] = integral_yy_sum[:height-side, side+1:] - integral_yy[side:, :width-side-1]\n",
    "    \n",
    "    # compute cost\n",
    "    cost_space = np.full((height, width, disparity_range), -1.0, np.float32)\n",
    "    for j in range(disparity_range):\n",
    "        denor = np.sqrt(integral_xx_sum[:, j:width])*np.sqrt(integral_yy_sum[:, :width-j])\n",
    "        cost_space[:, j:width, j] = integral_xy_sum[:, j:width, j] / denor\n",
    "        \n",
    "    # compute disparity from cost space\n",
    "    scale = 255 / disparity_range    \n",
    "    depth = np.argmax(cost_space, axis=2)\n",
    "    depth = depth*scale\n",
    "    depth = depth.astype(np.uint8)\n",
    "                \n",
    "    # chuyển dữ liệu từ ndarray sang kiểu Image và lưu xuống file\n",
    "    cv2.imwrite('images/disparity_cosine.png', depth)  \n",
    "         \n",
    "if __name__ == '__main__':\n",
    "    disparity_range = 16 # cho cặp ảnh Tsukuba\n",
    "    stereo_matching(\"images/left.png\", \"images/right.png\", disparity_range)"
   ]
  }
 ],
 "metadata": {
  "kernelspec": {
   "display_name": "env1",
   "language": "python",
   "name": "python3"
  },
  "language_info": {
   "codemirror_mode": {
    "name": "ipython",
    "version": 3
   },
   "file_extension": ".py",
   "mimetype": "text/x-python",
   "name": "python",
   "nbconvert_exporter": "python",
   "pygments_lexer": "ipython3",
   "version": "3.12.2"
  }
 },
 "nbformat": 4,
 "nbformat_minor": 2
}
